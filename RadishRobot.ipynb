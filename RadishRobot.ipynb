{
  "cells": [
    {
      "cell_type": "markdown",
      "metadata": {
        "id": "eK7fq8IVZkSM"
      },
      "source": [
        "# 萝卜机器人 算法组 集成代码\n",
        "\n",
        "## 目录\n",
        "\n",
        "- 视频/图片 输入\n",
        "- Tinypose 输出\n",
        "- 格式转换 输入\n",
        "- 3d base line 输出\n",
        "- 格式转换 输入\n",
        "- bvh 输出"
      ]
    },
    {
      "cell_type": "markdown",
      "metadata": {
        "id": "pnK0ccoVZ67O"
      },
      "source": [
        "## 环境预备"
      ]
    },
    {
      "cell_type": "markdown",
      "metadata": {
        "id": "xJwFvqO0aj_7"
      },
      "source": [
        "### Colab\n",
        "\n",
        "如果使用 Colab 就需要运行下面的代码。"
      ]
    },
    {
      "cell_type": "code",
      "execution_count": null,
      "metadata": {
        "id": "yilKIMxvaTUe"
      },
      "outputs": [],
      "source": [
        "# 占用显存\n",
        "import torch\n",
        "# about 1.1 GB\n",
        "a = torch.Tensor([1000, 1000, 1000]).cuda()\n",
        "\n",
        "# 查看显卡信息\n",
        "!nvidia-smi"
      ]
    },
    {
      "cell_type": "code",
      "execution_count": null,
      "metadata": {
        "id": "lzVeJ3UAg6QU"
      },
      "outputs": [],
      "source": [
        "# 挂载谷歌云盘\n",
        "from google.colab import drive\n",
        "drive.mount('/content/drive/')\n",
        "\n",
        "# clone repo if necessary\n",
        "# !git https://github.com/IsshikiHugh/RadishRobotCV.git"
      ]
    },
    {
      "cell_type": "markdown",
      "metadata": {
        "id": "L9RgCIP3aOvv"
      },
      "source": [
        "### Tinypose\n"
      ]
    },
    {
      "cell_type": "code",
      "execution_count": null,
      "metadata": {
        "id": "hHqP7u2qZdlw"
      },
      "outputs": [],
      "source": [
        "import os\n",
        "os.chdir(\"/content/\")\n",
        "# instal pp-gpu\n",
        "%pip install paddlepaddle-gpu\n",
        "import paddle\n",
        "paddle.utils.run_check()\n",
        "print(paddle.__version__)"
      ]
    },
    {
      "cell_type": "code",
      "execution_count": null,
      "metadata": {},
      "outputs": [],
      "source": [
        "# install pd\n",
        "os.chdir(\"./PaddleDetection\")\n",
        "%pip install -r requirements.txt\n",
        "!python setup.py install\n",
        "!python ppdet/modeling/tests/test_architectures.py"
      ]
    },
    {
      "cell_type": "code",
      "execution_count": null,
      "metadata": {
        "id": "ubyhuU_ZcvFb"
      },
      "outputs": [],
      "source": [
        "# usage\n",
        "\n",
        "import os\n",
        "os.chdir(\"/content/PaddleDetection\")\n",
        "\n",
        "# single picture\n",
        "!python3 deploy/python/det_keypoint_unite_infer.py --det_model_dir=output_inference/picodet_s_192_pedestrian --keypoint_model_dir=output_inference/tinypose_128x96 --device=GPU --image_file=1.jpg\n",
        "\n",
        "import os\n",
        "os.chdir(\"/content/PaddleDetection\")\n",
        "#vedio\n",
        "!python3 deploy/python/det_keypoint_unite_infer.py --det_model_dir=output_inference/picodet_s_192_pedestrian --keypoint_model_dir=output_inference/tinypose_128x96 --device=GPU  --save_res=True --video_file=1.mp4"
      ]
    }
  ],
  "metadata": {
    "accelerator": "GPU",
    "colab": {
      "collapsed_sections": [],
      "name": "RadishRobot.ipynb",
      "provenance": []
    },
    "kernelspec": {
      "display_name": "Python 3",
      "name": "python3"
    },
    "language_info": {
      "name": "python",
      "version": "3.10.4"
    }
  },
  "nbformat": 4,
  "nbformat_minor": 0
}
