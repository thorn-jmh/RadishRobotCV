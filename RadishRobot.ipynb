{
  "cells": [
    {
      "cell_type": "markdown",
      "metadata": {
        "id": "eK7fq8IVZkSM"
      },
      "source": [
        "# 萝卜机器人 算法组 集成代码\n",
        "\n",
        "## 目录\n",
        "\n",
        "- 视频/图片 输入\n",
        "- Tinypose 输出\n",
        "- 格式转换 输入\n",
        "- 3d base line 输出\n",
        "- 格式转换 输入\n",
        "- bvh 输出"
      ]
    },
    {
      "cell_type": "markdown",
      "metadata": {
        "id": "pnK0ccoVZ67O"
      },
      "source": [
        "## 环境预备"
      ]
    },
    {
      "cell_type": "markdown",
      "metadata": {
        "id": "xJwFvqO0aj_7"
      },
      "source": [
        "### Colab"
      ]
    },
    {
      "cell_type": "code",
      "execution_count": 1,
      "metadata": {
        "colab": {
          "base_uri": "https://localhost:8080/"
        },
        "id": "yilKIMxvaTUe",
        "outputId": "704e38a1-3911-4afb-fb79-cdfe601294db"
      },
      "outputs": [
        {
          "output_type": "stream",
          "name": "stdout",
          "text": [
            "Mon May 16 10:38:13 2022       \n",
            "+-----------------------------------------------------------------------------+\n",
            "| NVIDIA-SMI 460.32.03    Driver Version: 460.32.03    CUDA Version: 11.2     |\n",
            "|-------------------------------+----------------------+----------------------+\n",
            "| GPU  Name        Persistence-M| Bus-Id        Disp.A | Volatile Uncorr. ECC |\n",
            "| Fan  Temp  Perf  Pwr:Usage/Cap|         Memory-Usage | GPU-Util  Compute M. |\n",
            "|                               |                      |               MIG M. |\n",
            "|===============================+======================+======================|\n",
            "|   0  Tesla K80           Off  | 00000000:00:04.0 Off |                    0 |\n",
            "| N/A   37C    P0    66W / 149W |    486MiB / 11441MiB |      1%      Default |\n",
            "|                               |                      |                  N/A |\n",
            "+-------------------------------+----------------------+----------------------+\n",
            "                                                                               \n",
            "+-----------------------------------------------------------------------------+\n",
            "| Processes:                                                                  |\n",
            "|  GPU   GI   CI        PID   Type   Process name                  GPU Memory |\n",
            "|        ID   ID                                                   Usage      |\n",
            "|=============================================================================|\n",
            "+-----------------------------------------------------------------------------+\n",
            "Mounted at /content/drive/\n"
          ]
        }
      ],
      "source": [
        "# 占用显存\n",
        "import torch\n",
        "# about 1.1 GB\n",
        "a = torch.Tensor([1000, 1000, 1000]).cuda()\n",
        "\n",
        "# 查看显卡信息\n",
        "!nvidia-smi\n",
        "\n",
        "# 挂载谷歌云盘\n",
        "from google.colab import drive\n",
        "drive.mount('/content/drive/')"
      ]
    },
    {
      "cell_type": "markdown",
      "metadata": {
        "id": "L9RgCIP3aOvv"
      },
      "source": [
        "### Tinypose\n"
      ]
    },
    {
      "cell_type": "code",
      "execution_count": null,
      "metadata": {
        "id": "hHqP7u2qZdlw"
      },
      "outputs": [],
      "source": [
        "import os\n",
        "os.chdir(\"/content/\")\n",
        "# instal pp-gpu\n",
        "!pip install paddlepaddle-gpu\n",
        "import paddle\n",
        "paddle.utils.run_check()\n",
        "print(paddle.__version__)\n",
        "\n",
        "# install pd\n",
        "!git clone https://github.com/PaddlePaddle/PaddleDetection.git\n",
        "os.chdir(\"./PaddleDetection\")\n",
        "!pip install -r requirements.txt\n",
        "!python setup.py install\n",
        "!python ppdet/modeling/tests/test_architectures.py"
      ]
    },
    {
      "cell_type": "code",
      "source": [
        "# usage\n",
        "\n",
        "import os\n",
        "os.chdir(\"/content/PaddleDetection\")\n",
        "\n",
        "# single picture\n",
        "!python3 deploy/python/det_keypoint_unite_infer.py --det_model_dir=output_inference/picodet_s_192_pedestrian --keypoint_model_dir=output_inference/tinypose_128x96 --device=GPU --image_file=1.jpg\n",
        "\n",
        "import os\n",
        "os.chdir(\"/content/PaddleDetection\")\n",
        "#vedio\n",
        "!python3 deploy/python/det_keypoint_unite_infer.py --det_model_dir=output_inference/picodet_s_192_pedestrian --keypoint_model_dir=output_inference/tinypose_128x96 --device=GPU  --save_res=True --video_file=1.mp4"
      ],
      "metadata": {
        "id": "ubyhuU_ZcvFb"
      },
      "execution_count": null,
      "outputs": []
    }
  ],
  "metadata": {
    "accelerator": "GPU",
    "colab": {
      "collapsed_sections": [
        "xJwFvqO0aj_7"
      ],
      "name": "RadishRobot.ipynb",
      "provenance": []
    },
    "kernelspec": {
      "display_name": "Python 3",
      "name": "python3"
    },
    "language_info": {
      "name": "python",
      "version": "3.10.4"
    }
  },
  "nbformat": 4,
  "nbformat_minor": 0
}